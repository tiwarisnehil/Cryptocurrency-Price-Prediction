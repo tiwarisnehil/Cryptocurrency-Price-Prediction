{
 "cells": [
  {
   "cell_type": "markdown",
   "id": "48371d88",
   "metadata": {},
   "source": [
    "<h1 style=\"color:white;background:black;text-align:center\">CRYPTO CURRENCY PRICE PREDICTION MODEL USING LSTM</h1>"
   ]
  },
  {
   "cell_type": "markdown",
   "id": "32d08beb",
   "metadata": {},
   "source": [
    "<h1 style=\"color:white;background:black;text-align:center\">INCLUDED CURRENCIES:<br> BITCOIN, ETHEREUM, DOGECOIN, BINANCE COIN</h1>"
   ]
  },
  {
   "cell_type": "code",
   "execution_count": 1,
   "id": "c5654701",
   "metadata": {},
   "outputs": [],
   "source": [
    "import pandas as pd"
   ]
  },
  {
   "cell_type": "code",
   "execution_count": 2,
   "id": "768bb041",
   "metadata": {},
   "outputs": [],
   "source": [
    "import matplotlib.pyplot as plt\n",
    "%matplotlib inline"
   ]
  },
  {
   "cell_type": "markdown",
   "id": "e27d4ca4",
   "metadata": {},
   "source": [
    "<h1 style=\"color:white;background:black;text-align:center\">CREATING DATAFRAMES</h1>"
   ]
  },
  {
   "cell_type": "code",
   "execution_count": 3,
   "id": "867b129a",
   "metadata": {},
   "outputs": [
    {
     "data": {
      "text/html": [
       "<div>\n",
       "<style scoped>\n",
       "    .dataframe tbody tr th:only-of-type {\n",
       "        vertical-align: middle;\n",
       "    }\n",
       "\n",
       "    .dataframe tbody tr th {\n",
       "        vertical-align: top;\n",
       "    }\n",
       "\n",
       "    .dataframe thead th {\n",
       "        text-align: right;\n",
       "    }\n",
       "</style>\n",
       "<table border=\"1\" class=\"dataframe\">\n",
       "  <thead>\n",
       "    <tr style=\"text-align: right;\">\n",
       "      <th></th>\n",
       "      <th>Date</th>\n",
       "      <th>Open</th>\n",
       "      <th>High</th>\n",
       "      <th>Low</th>\n",
       "      <th>Close</th>\n",
       "      <th>Adj Close</th>\n",
       "      <th>Volume</th>\n",
       "    </tr>\n",
       "  </thead>\n",
       "  <tbody>\n",
       "    <tr>\n",
       "      <th>0</th>\n",
       "      <td>2019-09-18</td>\n",
       "      <td>0.186982</td>\n",
       "      <td>0.213079</td>\n",
       "      <td>0.183777</td>\n",
       "      <td>0.193520</td>\n",
       "      <td>0.193520</td>\n",
       "      <td>3.240832e+09</td>\n",
       "    </tr>\n",
       "    <tr>\n",
       "      <th>1</th>\n",
       "      <td>2019-09-19</td>\n",
       "      <td>0.193504</td>\n",
       "      <td>0.195170</td>\n",
       "      <td>0.184831</td>\n",
       "      <td>0.193424</td>\n",
       "      <td>0.193424</td>\n",
       "      <td>3.317185e+09</td>\n",
       "    </tr>\n",
       "    <tr>\n",
       "      <th>2</th>\n",
       "      <td>2019-09-20</td>\n",
       "      <td>0.193451</td>\n",
       "      <td>0.193407</td>\n",
       "      <td>0.188368</td>\n",
       "      <td>0.190296</td>\n",
       "      <td>0.190296</td>\n",
       "      <td>3.228296e+09</td>\n",
       "    </tr>\n",
       "    <tr>\n",
       "      <th>3</th>\n",
       "      <td>2019-09-21</td>\n",
       "      <td>0.189930</td>\n",
       "      <td>0.190291</td>\n",
       "      <td>0.181983</td>\n",
       "      <td>0.184142</td>\n",
       "      <td>0.184142</td>\n",
       "      <td>3.403760e+09</td>\n",
       "    </tr>\n",
       "    <tr>\n",
       "      <th>4</th>\n",
       "      <td>2019-09-22</td>\n",
       "      <td>0.184789</td>\n",
       "      <td>0.185740</td>\n",
       "      <td>0.181275</td>\n",
       "      <td>0.184570</td>\n",
       "      <td>0.184570</td>\n",
       "      <td>2.705474e+09</td>\n",
       "    </tr>\n",
       "  </tbody>\n",
       "</table>\n",
       "</div>"
      ],
      "text/plain": [
       "         Date      Open      High       Low     Close  Adj Close        Volume\n",
       "0  2019-09-18  0.186982  0.213079  0.183777  0.193520   0.193520  3.240832e+09\n",
       "1  2019-09-19  0.193504  0.195170  0.184831  0.193424   0.193424  3.317185e+09\n",
       "2  2019-09-20  0.193451  0.193407  0.188368  0.190296   0.190296  3.228296e+09\n",
       "3  2019-09-21  0.189930  0.190291  0.181983  0.184142   0.184142  3.403760e+09\n",
       "4  2019-09-22  0.184789  0.185740  0.181275  0.184570   0.184570  2.705474e+09"
      ]
     },
     "execution_count": 3,
     "metadata": {},
     "output_type": "execute_result"
    }
   ],
   "source": [
    "df=pd.read_csv('DOGE-INR.csv')\n",
    "df.head()"
   ]
  },
  {
   "cell_type": "code",
   "execution_count": 4,
   "id": "22e53a68",
   "metadata": {},
   "outputs": [
    {
     "data": {
      "text/html": [
       "<div>\n",
       "<style scoped>\n",
       "    .dataframe tbody tr th:only-of-type {\n",
       "        vertical-align: middle;\n",
       "    }\n",
       "\n",
       "    .dataframe tbody tr th {\n",
       "        vertical-align: top;\n",
       "    }\n",
       "\n",
       "    .dataframe thead th {\n",
       "        text-align: right;\n",
       "    }\n",
       "</style>\n",
       "<table border=\"1\" class=\"dataframe\">\n",
       "  <thead>\n",
       "    <tr style=\"text-align: right;\">\n",
       "      <th></th>\n",
       "      <th>Date</th>\n",
       "      <th>Open</th>\n",
       "      <th>High</th>\n",
       "      <th>Low</th>\n",
       "      <th>Close</th>\n",
       "      <th>Adj Close</th>\n",
       "      <th>Volume</th>\n",
       "    </tr>\n",
       "  </thead>\n",
       "  <tbody>\n",
       "    <tr>\n",
       "      <th>0</th>\n",
       "      <td>2019-09-18</td>\n",
       "      <td>734975.8750</td>\n",
       "      <td>731490.6875</td>\n",
       "      <td>725478.5000</td>\n",
       "      <td>725961.0000</td>\n",
       "      <td>725961.0000</td>\n",
       "      <td>1.151007e+12</td>\n",
       "    </tr>\n",
       "    <tr>\n",
       "      <th>1</th>\n",
       "      <td>2019-09-19</td>\n",
       "      <td>726121.0000</td>\n",
       "      <td>735039.7500</td>\n",
       "      <td>703342.8125</td>\n",
       "      <td>732951.1875</td>\n",
       "      <td>732951.1875</td>\n",
       "      <td>1.423414e+12</td>\n",
       "    </tr>\n",
       "    <tr>\n",
       "      <th>2</th>\n",
       "      <td>2019-09-20</td>\n",
       "      <td>732944.3125</td>\n",
       "      <td>732415.8125</td>\n",
       "      <td>721472.4375</td>\n",
       "      <td>724993.9375</td>\n",
       "      <td>724993.9375</td>\n",
       "      <td>1.049163e+12</td>\n",
       "    </tr>\n",
       "    <tr>\n",
       "      <th>3</th>\n",
       "      <td>2019-09-21</td>\n",
       "      <td>725136.8750</td>\n",
       "      <td>725453.6875</td>\n",
       "      <td>712110.4375</td>\n",
       "      <td>713463.9375</td>\n",
       "      <td>713463.9375</td>\n",
       "      <td>9.559595e+11</td>\n",
       "    </tr>\n",
       "    <tr>\n",
       "      <th>4</th>\n",
       "      <td>2019-09-22</td>\n",
       "      <td>713777.1250</td>\n",
       "      <td>717307.0625</td>\n",
       "      <td>706490.9375</td>\n",
       "      <td>717018.5625</td>\n",
       "      <td>717018.5625</td>\n",
       "      <td>9.398239e+11</td>\n",
       "    </tr>\n",
       "  </tbody>\n",
       "</table>\n",
       "</div>"
      ],
      "text/plain": [
       "         Date         Open         High          Low        Close  \\\n",
       "0  2019-09-18  734975.8750  731490.6875  725478.5000  725961.0000   \n",
       "1  2019-09-19  726121.0000  735039.7500  703342.8125  732951.1875   \n",
       "2  2019-09-20  732944.3125  732415.8125  721472.4375  724993.9375   \n",
       "3  2019-09-21  725136.8750  725453.6875  712110.4375  713463.9375   \n",
       "4  2019-09-22  713777.1250  717307.0625  706490.9375  717018.5625   \n",
       "\n",
       "     Adj Close        Volume  \n",
       "0  725961.0000  1.151007e+12  \n",
       "1  732951.1875  1.423414e+12  \n",
       "2  724993.9375  1.049163e+12  \n",
       "3  713463.9375  9.559595e+11  \n",
       "4  717018.5625  9.398239e+11  "
      ]
     },
     "execution_count": 4,
     "metadata": {},
     "output_type": "execute_result"
    }
   ],
   "source": [
    "df_bitcoin=pd.read_csv('BTC-INR.csv')\n",
    "df_bitcoin.head()"
   ]
  },
  {
   "cell_type": "code",
   "execution_count": 5,
   "id": "e1e704fd",
   "metadata": {},
   "outputs": [
    {
     "data": {
      "text/html": [
       "<div>\n",
       "<style scoped>\n",
       "    .dataframe tbody tr th:only-of-type {\n",
       "        vertical-align: middle;\n",
       "    }\n",
       "\n",
       "    .dataframe tbody tr th {\n",
       "        vertical-align: top;\n",
       "    }\n",
       "\n",
       "    .dataframe thead th {\n",
       "        text-align: right;\n",
       "    }\n",
       "</style>\n",
       "<table border=\"1\" class=\"dataframe\">\n",
       "  <thead>\n",
       "    <tr style=\"text-align: right;\">\n",
       "      <th></th>\n",
       "      <th>Date</th>\n",
       "      <th>Open</th>\n",
       "      <th>High</th>\n",
       "      <th>Low</th>\n",
       "      <th>Close</th>\n",
       "      <th>Adj Close</th>\n",
       "      <th>Volume</th>\n",
       "    </tr>\n",
       "  </thead>\n",
       "  <tbody>\n",
       "    <tr>\n",
       "      <th>0</th>\n",
       "      <td>2019-09-18</td>\n",
       "      <td>14921.469727</td>\n",
       "      <td>15426.580078</td>\n",
       "      <td>14810.055664</td>\n",
       "      <td>15047.986328</td>\n",
       "      <td>15047.986328</td>\n",
       "      <td>6.545189e+11</td>\n",
       "    </tr>\n",
       "    <tr>\n",
       "      <th>1</th>\n",
       "      <td>2019-09-19</td>\n",
       "      <td>15037.607422</td>\n",
       "      <td>15911.500977</td>\n",
       "      <td>14613.152344</td>\n",
       "      <td>15797.926758</td>\n",
       "      <td>15797.926758</td>\n",
       "      <td>7.581998e+11</td>\n",
       "    </tr>\n",
       "    <tr>\n",
       "      <th>2</th>\n",
       "      <td>2019-09-20</td>\n",
       "      <td>15782.846680</td>\n",
       "      <td>15779.146484</td>\n",
       "      <td>15320.657227</td>\n",
       "      <td>15526.472656</td>\n",
       "      <td>15526.472656</td>\n",
       "      <td>5.716399e+11</td>\n",
       "    </tr>\n",
       "    <tr>\n",
       "      <th>3</th>\n",
       "      <td>2019-09-21</td>\n",
       "      <td>15515.600586</td>\n",
       "      <td>15733.556641</td>\n",
       "      <td>15309.302734</td>\n",
       "      <td>15346.046875</td>\n",
       "      <td>15346.046875</td>\n",
       "      <td>5.513701e+11</td>\n",
       "    </tr>\n",
       "    <tr>\n",
       "      <th>4</th>\n",
       "      <td>2019-09-22</td>\n",
       "      <td>15343.935547</td>\n",
       "      <td>15385.482422</td>\n",
       "      <td>14784.455078</td>\n",
       "      <td>15062.170898</td>\n",
       "      <td>15062.170898</td>\n",
       "      <td>5.562804e+11</td>\n",
       "    </tr>\n",
       "    <tr>\n",
       "      <th>...</th>\n",
       "      <td>...</td>\n",
       "      <td>...</td>\n",
       "      <td>...</td>\n",
       "      <td>...</td>\n",
       "      <td>...</td>\n",
       "      <td>...</td>\n",
       "      <td>...</td>\n",
       "    </tr>\n",
       "    <tr>\n",
       "      <th>522</th>\n",
       "      <td>2021-02-21</td>\n",
       "      <td>139239.062500</td>\n",
       "      <td>143241.015625</td>\n",
       "      <td>137184.953125</td>\n",
       "      <td>140451.781250</td>\n",
       "      <td>140451.781250</td>\n",
       "      <td>1.714398e+12</td>\n",
       "    </tr>\n",
       "    <tr>\n",
       "      <th>523</th>\n",
       "      <td>2021-02-22</td>\n",
       "      <td>140448.656250</td>\n",
       "      <td>140513.656250</td>\n",
       "      <td>114628.617188</td>\n",
       "      <td>129119.914063</td>\n",
       "      <td>129119.914063</td>\n",
       "      <td>3.072924e+12</td>\n",
       "    </tr>\n",
       "    <tr>\n",
       "      <th>524</th>\n",
       "      <td>2021-02-23</td>\n",
       "      <td>129077.601563</td>\n",
       "      <td>129077.601563</td>\n",
       "      <td>99823.937500</td>\n",
       "      <td>113655.062500</td>\n",
       "      <td>113655.062500</td>\n",
       "      <td>3.766044e+12</td>\n",
       "    </tr>\n",
       "    <tr>\n",
       "      <th>525</th>\n",
       "      <td>2021-02-24</td>\n",
       "      <td>113747.171875</td>\n",
       "      <td>123927.406250</td>\n",
       "      <td>109371.554688</td>\n",
       "      <td>117757.328125</td>\n",
       "      <td>117757.328125</td>\n",
       "      <td>2.268090e+12</td>\n",
       "    </tr>\n",
       "    <tr>\n",
       "      <th>526</th>\n",
       "      <td>2021-02-25</td>\n",
       "      <td>115061.000000</td>\n",
       "      <td>119614.468750</td>\n",
       "      <td>114982.062500</td>\n",
       "      <td>114982.062500</td>\n",
       "      <td>114982.062500</td>\n",
       "      <td>1.915673e+12</td>\n",
       "    </tr>\n",
       "  </tbody>\n",
       "</table>\n",
       "<p>527 rows × 7 columns</p>\n",
       "</div>"
      ],
      "text/plain": [
       "           Date           Open           High            Low          Close  \\\n",
       "0    2019-09-18   14921.469727   15426.580078   14810.055664   15047.986328   \n",
       "1    2019-09-19   15037.607422   15911.500977   14613.152344   15797.926758   \n",
       "2    2019-09-20   15782.846680   15779.146484   15320.657227   15526.472656   \n",
       "3    2019-09-21   15515.600586   15733.556641   15309.302734   15346.046875   \n",
       "4    2019-09-22   15343.935547   15385.482422   14784.455078   15062.170898   \n",
       "..          ...            ...            ...            ...            ...   \n",
       "522  2021-02-21  139239.062500  143241.015625  137184.953125  140451.781250   \n",
       "523  2021-02-22  140448.656250  140513.656250  114628.617188  129119.914063   \n",
       "524  2021-02-23  129077.601563  129077.601563   99823.937500  113655.062500   \n",
       "525  2021-02-24  113747.171875  123927.406250  109371.554688  117757.328125   \n",
       "526  2021-02-25  115061.000000  119614.468750  114982.062500  114982.062500   \n",
       "\n",
       "         Adj Close        Volume  \n",
       "0     15047.986328  6.545189e+11  \n",
       "1     15797.926758  7.581998e+11  \n",
       "2     15526.472656  5.716399e+11  \n",
       "3     15346.046875  5.513701e+11  \n",
       "4     15062.170898  5.562804e+11  \n",
       "..             ...           ...  \n",
       "522  140451.781250  1.714398e+12  \n",
       "523  129119.914063  3.072924e+12  \n",
       "524  113655.062500  3.766044e+12  \n",
       "525  117757.328125  2.268090e+12  \n",
       "526  114982.062500  1.915673e+12  \n",
       "\n",
       "[527 rows x 7 columns]"
      ]
     },
     "execution_count": 5,
     "metadata": {},
     "output_type": "execute_result"
    }
   ],
   "source": [
    "df_eth=pd.read_csv('ETH-INR.csv')\n",
    "df_eth"
   ]
  },
  {
   "cell_type": "code",
   "execution_count": 6,
   "id": "c8a61e4f",
   "metadata": {},
   "outputs": [
    {
     "data": {
      "text/html": [
       "<div>\n",
       "<style scoped>\n",
       "    .dataframe tbody tr th:only-of-type {\n",
       "        vertical-align: middle;\n",
       "    }\n",
       "\n",
       "    .dataframe tbody tr th {\n",
       "        vertical-align: top;\n",
       "    }\n",
       "\n",
       "    .dataframe thead th {\n",
       "        text-align: right;\n",
       "    }\n",
       "</style>\n",
       "<table border=\"1\" class=\"dataframe\">\n",
       "  <thead>\n",
       "    <tr style=\"text-align: right;\">\n",
       "      <th></th>\n",
       "      <th>Date</th>\n",
       "      <th>Open</th>\n",
       "      <th>High</th>\n",
       "      <th>Low</th>\n",
       "      <th>Close</th>\n",
       "      <th>Adj Close</th>\n",
       "      <th>Volume</th>\n",
       "    </tr>\n",
       "  </thead>\n",
       "  <tbody>\n",
       "    <tr>\n",
       "      <th>0</th>\n",
       "      <td>2019-09-18</td>\n",
       "      <td>1506.581055</td>\n",
       "      <td>1630.264526</td>\n",
       "      <td>1495.265015</td>\n",
       "      <td>1584.250977</td>\n",
       "      <td>1584.250977</td>\n",
       "      <td>2.629860e+10</td>\n",
       "    </tr>\n",
       "    <tr>\n",
       "      <th>1</th>\n",
       "      <td>2019-09-19</td>\n",
       "      <td>1583.301392</td>\n",
       "      <td>1605.539307</td>\n",
       "      <td>1473.100342</td>\n",
       "      <td>1543.133301</td>\n",
       "      <td>1543.133301</td>\n",
       "      <td>1.781432e+10</td>\n",
       "    </tr>\n",
       "    <tr>\n",
       "      <th>2</th>\n",
       "      <td>2019-09-20</td>\n",
       "      <td>1544.391113</td>\n",
       "      <td>1540.884644</td>\n",
       "      <td>1502.039673</td>\n",
       "      <td>1521.776978</td>\n",
       "      <td>1521.776978</td>\n",
       "      <td>1.416919e+10</td>\n",
       "    </tr>\n",
       "    <tr>\n",
       "      <th>3</th>\n",
       "      <td>2019-09-21</td>\n",
       "      <td>1522.417114</td>\n",
       "      <td>1533.824951</td>\n",
       "      <td>1494.628418</td>\n",
       "      <td>1501.177734</td>\n",
       "      <td>1501.177734</td>\n",
       "      <td>1.246920e+10</td>\n",
       "    </tr>\n",
       "    <tr>\n",
       "      <th>4</th>\n",
       "      <td>2019-09-22</td>\n",
       "      <td>1501.943237</td>\n",
       "      <td>1501.934448</td>\n",
       "      <td>1442.175781</td>\n",
       "      <td>1461.433350</td>\n",
       "      <td>1461.433350</td>\n",
       "      <td>1.094694e+10</td>\n",
       "    </tr>\n",
       "  </tbody>\n",
       "</table>\n",
       "</div>"
      ],
      "text/plain": [
       "         Date         Open         High          Low        Close  \\\n",
       "0  2019-09-18  1506.581055  1630.264526  1495.265015  1584.250977   \n",
       "1  2019-09-19  1583.301392  1605.539307  1473.100342  1543.133301   \n",
       "2  2019-09-20  1544.391113  1540.884644  1502.039673  1521.776978   \n",
       "3  2019-09-21  1522.417114  1533.824951  1494.628418  1501.177734   \n",
       "4  2019-09-22  1501.943237  1501.934448  1442.175781  1461.433350   \n",
       "\n",
       "     Adj Close        Volume  \n",
       "0  1584.250977  2.629860e+10  \n",
       "1  1543.133301  1.781432e+10  \n",
       "2  1521.776978  1.416919e+10  \n",
       "3  1501.177734  1.246920e+10  \n",
       "4  1461.433350  1.094694e+10  "
      ]
     },
     "execution_count": 6,
     "metadata": {},
     "output_type": "execute_result"
    }
   ],
   "source": [
    "df_bnb=pd.read_csv('BNB-INR.csv')\n",
    "df_bnb.head()"
   ]
  },
  {
   "cell_type": "code",
   "execution_count": 7,
   "id": "da2f2f40",
   "metadata": {},
   "outputs": [
    {
     "data": {
      "text/plain": [
       "526"
      ]
     },
     "execution_count": 7,
     "metadata": {},
     "output_type": "execute_result"
    }
   ],
   "source": [
    "len(df)"
   ]
  },
  {
   "cell_type": "code",
   "execution_count": 8,
   "id": "2570a574",
   "metadata": {},
   "outputs": [
    {
     "data": {
      "text/plain": [
       "525"
      ]
     },
     "execution_count": 8,
     "metadata": {},
     "output_type": "execute_result"
    }
   ],
   "source": [
    "len(df_bitcoin)"
   ]
  },
  {
   "cell_type": "code",
   "execution_count": 9,
   "id": "0dbbf73c",
   "metadata": {},
   "outputs": [
    {
     "data": {
      "text/plain": [
       "527"
      ]
     },
     "execution_count": 9,
     "metadata": {},
     "output_type": "execute_result"
    }
   ],
   "source": [
    "len(df_eth)"
   ]
  },
  {
   "cell_type": "code",
   "execution_count": 10,
   "id": "3f4a6466",
   "metadata": {},
   "outputs": [
    {
     "data": {
      "text/plain": [
       "527"
      ]
     },
     "execution_count": 10,
     "metadata": {},
     "output_type": "execute_result"
    }
   ],
   "source": [
    "len(df_bnb)"
   ]
  },
  {
   "cell_type": "markdown",
   "id": "447be111",
   "metadata": {},
   "source": [
    "<h1 style=\"color:white;background:black;text-align:center\">DATA CLEANING</h1>"
   ]
  },
  {
   "cell_type": "code",
   "execution_count": 11,
   "id": "4d9b71a0",
   "metadata": {},
   "outputs": [],
   "source": [
    "def cleaner(df):\n",
    "    df=df.dropna()\n",
    "    return df"
   ]
  },
  {
   "cell_type": "code",
   "execution_count": 12,
   "id": "5e315b09",
   "metadata": {},
   "outputs": [],
   "source": [
    "df=cleaner(df)"
   ]
  },
  {
   "cell_type": "code",
   "execution_count": 13,
   "id": "b699e08c",
   "metadata": {},
   "outputs": [],
   "source": [
    "df_bitcoin=cleaner(df_bitcoin)"
   ]
  },
  {
   "cell_type": "code",
   "execution_count": 14,
   "id": "9dc12100",
   "metadata": {},
   "outputs": [],
   "source": [
    "df_eth=cleaner(df_eth)"
   ]
  },
  {
   "cell_type": "code",
   "execution_count": 15,
   "id": "4ab6cd9b",
   "metadata": {},
   "outputs": [],
   "source": [
    "df_bnb=cleaner(df_bnb)"
   ]
  },
  {
   "cell_type": "code",
   "execution_count": 16,
   "id": "af0a5f7f",
   "metadata": {},
   "outputs": [
    {
     "data": {
      "text/plain": [
       "521"
      ]
     },
     "execution_count": 16,
     "metadata": {},
     "output_type": "execute_result"
    }
   ],
   "source": [
    "len(df_bitcoin)"
   ]
  },
  {
   "cell_type": "code",
   "execution_count": 17,
   "id": "4f2bca94",
   "metadata": {},
   "outputs": [
    {
     "data": {
      "text/plain": [
       "522"
      ]
     },
     "execution_count": 17,
     "metadata": {},
     "output_type": "execute_result"
    }
   ],
   "source": [
    "len(df)"
   ]
  },
  {
   "cell_type": "code",
   "execution_count": 18,
   "id": "940f86aa",
   "metadata": {},
   "outputs": [
    {
     "data": {
      "text/plain": [
       "523"
      ]
     },
     "execution_count": 18,
     "metadata": {},
     "output_type": "execute_result"
    }
   ],
   "source": [
    "len(df_eth)"
   ]
  },
  {
   "cell_type": "code",
   "execution_count": 19,
   "id": "f3fc6577",
   "metadata": {},
   "outputs": [
    {
     "data": {
      "text/plain": [
       "523"
      ]
     },
     "execution_count": 19,
     "metadata": {},
     "output_type": "execute_result"
    }
   ],
   "source": [
    "len(df_bnb)"
   ]
  },
  {
   "cell_type": "markdown",
   "id": "b8a5c82c",
   "metadata": {},
   "source": [
    "<h1 style=\"color:white;background:black;text-align:center\">FEATURE EXTRACTION</h1>"
   ]
  },
  {
   "cell_type": "code",
   "execution_count": 20,
   "id": "726b555f",
   "metadata": {},
   "outputs": [],
   "source": [
    "def feature_extractor(df):\n",
    "    df=df.Close\n",
    "    return df"
   ]
  },
  {
   "cell_type": "code",
   "execution_count": 21,
   "id": "eac0754d",
   "metadata": {},
   "outputs": [],
   "source": [
    "df_bitcoin=feature_extractor(df_bitcoin)"
   ]
  },
  {
   "cell_type": "code",
   "execution_count": 22,
   "id": "b482b519",
   "metadata": {},
   "outputs": [
    {
     "data": {
      "text/plain": [
       "0    725961.0000\n",
       "1    732951.1875\n",
       "2    724993.9375\n",
       "3    713463.9375\n",
       "4    717018.5625\n",
       "Name: Close, dtype: float64"
      ]
     },
     "execution_count": 22,
     "metadata": {},
     "output_type": "execute_result"
    }
   ],
   "source": [
    "df_bitcoin.head()\n"
   ]
  },
  {
   "cell_type": "code",
   "execution_count": 23,
   "id": "f3fd4e7b",
   "metadata": {},
   "outputs": [],
   "source": [
    "df_eth=feature_extractor(df_eth)"
   ]
  },
  {
   "cell_type": "code",
   "execution_count": 24,
   "id": "9e5bb34d",
   "metadata": {},
   "outputs": [
    {
     "data": {
      "text/plain": [
       "0    15047.986328\n",
       "1    15797.926758\n",
       "2    15526.472656\n",
       "3    15346.046875\n",
       "4    15062.170898\n",
       "Name: Close, dtype: float64"
      ]
     },
     "execution_count": 24,
     "metadata": {},
     "output_type": "execute_result"
    }
   ],
   "source": [
    "df_eth.head()"
   ]
  },
  {
   "cell_type": "code",
   "execution_count": 25,
   "id": "811f11e4",
   "metadata": {},
   "outputs": [],
   "source": [
    "df_bnb=feature_extractor(df_bnb)"
   ]
  },
  {
   "cell_type": "code",
   "execution_count": 26,
   "id": "a6a56699",
   "metadata": {},
   "outputs": [
    {
     "data": {
      "text/plain": [
       "523"
      ]
     },
     "execution_count": 26,
     "metadata": {},
     "output_type": "execute_result"
    }
   ],
   "source": [
    "len(df_bnb)"
   ]
  },
  {
   "cell_type": "code",
   "execution_count": 27,
   "id": "28c690fa",
   "metadata": {},
   "outputs": [],
   "source": [
    "df=feature_extractor(df)"
   ]
  },
  {
   "cell_type": "code",
   "execution_count": 28,
   "id": "e499203a",
   "metadata": {},
   "outputs": [
    {
     "data": {
      "text/plain": [
       "0    0.193520\n",
       "1    0.193424\n",
       "2    0.190296\n",
       "3    0.184142\n",
       "4    0.184570\n",
       "Name: Close, dtype: float64"
      ]
     },
     "execution_count": 28,
     "metadata": {},
     "output_type": "execute_result"
    }
   ],
   "source": [
    "df.head()"
   ]
  },
  {
   "cell_type": "markdown",
   "id": "aa2ffd42",
   "metadata": {},
   "source": [
    "<h1 style=\"color:white;background:black;text-align:center\">INITIAL PLOTING</h1>"
   ]
  },
  {
   "cell_type": "code",
   "execution_count": 29,
   "id": "3aeb75f2",
   "metadata": {},
   "outputs": [],
   "source": [
    "def initial_plot(df,name):\n",
    "    plt.figure(figsize=(10,7))\n",
    "    plt.plot(df,color='Orange')\n",
    "    plt.title(name)"
   ]
  },
  {
   "cell_type": "code",
   "execution_count": 30,
   "id": "b0e1a71a",
   "metadata": {},
   "outputs": [
    {
     "data": {
      "image/png": "[encoded data removed]",
      "text/plain": [
       "<Figure size 1000x700 with 1 Axes>"
      ]
     },
     "metadata": {},
     "output_type": "display_data"
    }
   ],
   "source": [
    "initial_plot(df,'DOGECOIN')"
   ]
  },
  {
   "cell_type": "code",
   "execution_count": 31,
   "id": "52b588e7",
   "metadata": {},
   "outputs": [
    {
     "data": {
      "image/png": "[encoded data removed]",
      "text/plain": [
       "<Figure size 1000x700 with 1 Axes>"
      ]
     },
     "metadata": {},
     "output_type": "display_data"
    }
   ],
   "source": [
    "initial_plot(df_bitcoin,'BITCOIN')"
   ]
  },
  {
   "cell_type": "code",
   "execution_count": 32,
   "id": "11885496",
   "metadata": {},
   "outputs": [
    {
     "data": {
      "image/png": "[encoded data removed]",
      "text/plain": [
       "<Figure size 1000x700 with 1 Axes>"
      ]
     },
     "metadata": {},
     "output_type": "display_data"
    }
   ],
   "source": [
    "initial_plot(df_eth,'ETHEREUM')"
   ]
  },
  {
   "cell_type": "code",
   "execution_count": 33,
   "id": "46d674fe",
   "metadata": {},
   "outputs": [
    {
     "data": {
      "image/png": "[encoded data removed]",
      "text/plain": [
       "<Figure size 1000x700 with 1 Axes>"
      ]
     },
     "metadata": {},
     "output_type": "display_data"
    }
   ],
   "source": [
    "initial_plot(df_bnb,'BINANCE COIN')"
   ]
  },
  {
   "cell_type": "markdown",
   "id": "05d277c8",
   "metadata": {},
   "source": [
    "<h1 style=\"color:white;background:black;text-align:center\">SCALING</h1>"
   ]
  },
  {
   "cell_type": "code",
   "execution_count": 34,
   "id": "16a18170",
   "metadata": {},
   "outputs": [
    {
     "ename": "ModuleNotFoundError",
     "evalue": "No module named 'sklearn'",
     "output_type": "error",
     "traceback": [
      "\u001b[1;31m---------------------------------------------------------------------------\u001b[0m",
      "\u001b[1;31mModuleNotFoundError\u001b[0m                       Traceback (most recent call last)",
      "Cell \u001b[1;32mIn[34], line 1\u001b[0m\n\u001b[1;32m----> 1\u001b[0m \u001b[38;5;28;01mfrom\u001b[39;00m \u001b[38;5;21;01msklearn\u001b[39;00m\u001b[38;5;21;01m.\u001b[39;00m\u001b[38;5;21;01mpreprocessing\u001b[39;00m \u001b[38;5;28;01mimport\u001b[39;00m MinMaxScaler\n\u001b[0;32m      2\u001b[0m scaler\u001b[38;5;241m=\u001b[39mMinMaxScaler()\n",
      "\u001b[1;31mModuleNotFoundError\u001b[0m: No module named 'sklearn'"
     ]
    }
   ],
   "source": [
    "from sklearn.preprocessing import MinMaxScaler\n",
    "scaler=MinMaxScaler()\n"
   ]
  },
  {
   "cell_type": "code",
   "execution_count": null,
   "id": "f6070e6d",
   "metadata": {},
   "outputs": [],
   "source": [
    "import numpy as np"
   ]
  },
  {
   "cell_type": "code",
   "execution_count": null,
   "id": "6248a8bb",
   "metadata": {},
   "outputs": [],
   "source": [
    "def scaling(df):\n",
    "    df=scaler.fit_transform(np.array(df).reshape(-1,1))\n",
    "    return df"
   ]
  },
  {
   "cell_type": "code",
   "execution_count": null,
   "id": "f4796167",
   "metadata": {},
   "outputs": [],
   "source": [
    "df=scaling(df)"
   ]
  },
  {
   "cell_type": "code",
   "execution_count": null,
   "id": "2aa1d86e",
   "metadata": {},
   "outputs": [],
   "source": [
    "df"
   ]
  },
  {
   "cell_type": "code",
   "execution_count": null,
   "id": "05190e99",
   "metadata": {},
   "outputs": [],
   "source": [
    "df_eth=scaling(df_eth)"
   ]
  },
  {
   "cell_type": "code",
   "execution_count": null,
   "id": "62ad5c03",
   "metadata": {},
   "outputs": [],
   "source": [
    "df_eth"
   ]
  },
  {
   "cell_type": "code",
   "execution_count": null,
   "id": "dbe9c916",
   "metadata": {},
   "outputs": [],
   "source": [
    "df_bitcoin=scaling(df_bitcoin)"
   ]
  },
  {
   "cell_type": "code",
   "execution_count": null,
   "id": "5c6f97bf",
   "metadata": {},
   "outputs": [],
   "source": [
    "df_bitcoin"
   ]
  },
  {
   "cell_type": "code",
   "execution_count": null,
   "id": "896f430e",
   "metadata": {},
   "outputs": [],
   "source": [
    "df_bnb=scaling(df_bnb)"
   ]
  },
  {
   "cell_type": "code",
   "execution_count": null,
   "id": "378eee06",
   "metadata": {},
   "outputs": [],
   "source": [
    "df_bnb"
   ]
  },
  {
   "cell_type": "markdown",
   "id": "1291cff7",
   "metadata": {},
   "source": [
    "<h1 style=\"color:white;background:black;text-align:center\">TRAIN TEST SPLITTING</h1>"
   ]
  },
  {
   "cell_type": "code",
   "execution_count": null,
   "id": "c3cf1722",
   "metadata": {},
   "outputs": [],
   "source": [
    "def train_test(df):\n",
    "    training_size=int(len(df)*0.65)\n",
    "    test_size=int(len(df)*0.35)\n",
    "    train_data=df[0:training_size,:]\n",
    "    test_data=df[training_size:len(df)-1,:1]\n",
    "    return train_data,test_data"
   ]
  },
  {
   "cell_type": "code",
   "execution_count": null,
   "id": "05299009",
   "metadata": {},
   "outputs": [],
   "source": [
    "train_data,test_data=train_test(df)"
   ]
  },
  {
   "cell_type": "code",
   "execution_count": null,
   "id": "4f24b34a",
   "metadata": {},
   "outputs": [],
   "source": [
    "train_data2,test_data2=train_test(df_bitcoin)"
   ]
  },
  {
   "cell_type": "code",
   "execution_count": null,
   "id": "7b0842c4",
   "metadata": {},
   "outputs": [],
   "source": [
    "train_data3,test_data3=train_test(df_eth)"
   ]
  },
  {
   "cell_type": "code",
   "execution_count": null,
   "id": "09e47574",
   "metadata": {},
   "outputs": [],
   "source": [
    "train_data4,test_data4=train_test(df_bnb)"
   ]
  },
  {
   "cell_type": "code",
   "execution_count": null,
   "id": "d67ebf38",
   "metadata": {},
   "outputs": [],
   "source": [
    "len(train_data)"
   ]
  },
  {
   "cell_type": "code",
   "execution_count": null,
   "id": "ea93fe05",
   "metadata": {},
   "outputs": [],
   "source": [
    "len(train_data2)"
   ]
  },
  {
   "cell_type": "code",
   "execution_count": null,
   "id": "5a089a62",
   "metadata": {},
   "outputs": [],
   "source": [
    "len(train_data3)"
   ]
  },
  {
   "cell_type": "code",
   "execution_count": null,
   "id": "a8f40058",
   "metadata": {},
   "outputs": [],
   "source": [
    "len(train_data4)"
   ]
  },
  {
   "cell_type": "markdown",
   "id": "9f90d6b9",
   "metadata": {},
   "source": [
    "<h1 style=\"color:white;background:black;text-align:center\">CREATING DATASET</h1>"
   ]
  },
  {
   "cell_type": "code",
   "execution_count": null,
   "id": "fac898c1",
   "metadata": {},
   "outputs": [],
   "source": [
    "def create_dataset(df,timestep=1):\n",
    "    dataX=[]\n",
    "    dataY=[]\n",
    "    for i in range(len(df)-timestep-1):\n",
    "        a=df[i:(i+timestep),0]\n",
    "        dataX.append(a)\n",
    "        dataY.append(df[i+timestep,0])\n",
    "    return np.array(dataX),np.array(dataY)"
   ]
  },
  {
   "cell_type": "code",
   "execution_count": null,
   "id": "18bf6046",
   "metadata": {},
   "outputs": [],
   "source": [
    "timestep=100\n",
    "x_train,y_train=create_dataset(train_data,timestep)\n",
    "x_test,y_test=create_dataset(test_data,timestep)"
   ]
  },
  {
   "cell_type": "code",
   "execution_count": null,
   "id": "88f444d9",
   "metadata": {},
   "outputs": [],
   "source": [
    "x_train2,y_train2=create_dataset(train_data2,timestep)\n",
    "x_test2,y_test2=create_dataset(test_data2,timestep)"
   ]
  },
  {
   "cell_type": "code",
   "execution_count": null,
   "id": "78ad15c3",
   "metadata": {},
   "outputs": [],
   "source": [
    "x_train3,y_train3=create_dataset(train_data3,timestep)\n",
    "x_test3,y_test3=create_dataset(test_data3,timestep)"
   ]
  },
  {
   "cell_type": "code",
   "execution_count": null,
   "id": "57ea5ee4",
   "metadata": {},
   "outputs": [],
   "source": [
    "x_train4,y_train4=create_dataset(train_data4,timestep)\n",
    "x_test4,y_test4=create_dataset(test_data4,timestep)"
   ]
  },
  {
   "cell_type": "code",
   "execution_count": null,
   "id": "dbf4994b",
   "metadata": {},
   "outputs": [],
   "source": [
    "len(x_train)"
   ]
  },
  {
   "cell_type": "code",
   "execution_count": null,
   "id": "6f64af05",
   "metadata": {},
   "outputs": [],
   "source": [
    "len(x_train2)"
   ]
  },
  {
   "cell_type": "code",
   "execution_count": null,
   "id": "fe4d7193",
   "metadata": {},
   "outputs": [],
   "source": [
    "len(x_train3)"
   ]
  },
  {
   "cell_type": "code",
   "execution_count": null,
   "id": "d282deb6",
   "metadata": {},
   "outputs": [],
   "source": [
    "len(x_train4)"
   ]
  },
  {
   "cell_type": "markdown",
   "id": "482298e6",
   "metadata": {},
   "source": [
    "<h1 style=\"color:white;background:black;text-align:center\">RESHAPING TO MEET THE REQ. FOR LSTM LAYER</h1>"
   ]
  },
  {
   "cell_type": "code",
   "execution_count": null,
   "id": "a036f2e4",
   "metadata": {},
   "outputs": [],
   "source": [
    "def reshaper(train,test):\n",
    "    train=train.reshape(train.shape[0],train.shape[1],1)\n",
    "    test=test.reshape(test.shape[0],test.shape[1],1)\n",
    "    return train,test"
   ]
  },
  {
   "cell_type": "code",
   "execution_count": null,
   "id": "8e160b77",
   "metadata": {},
   "outputs": [],
   "source": [
    "x_train,x_test=reshaper(x_train,x_test)\n"
   ]
  },
  {
   "cell_type": "code",
   "execution_count": null,
   "id": "947e5dcf",
   "metadata": {},
   "outputs": [],
   "source": [
    "x_train.shape"
   ]
  },
  {
   "cell_type": "code",
   "execution_count": null,
   "id": "b23e1c06",
   "metadata": {},
   "outputs": [],
   "source": [
    "x_train2,x_test2=reshaper(x_train2,x_test2)"
   ]
  },
  {
   "cell_type": "code",
   "execution_count": null,
   "id": "adc4f76b",
   "metadata": {},
   "outputs": [],
   "source": [
    "x_test2.shape"
   ]
  },
  {
   "cell_type": "code",
   "execution_count": null,
   "id": "7c6ab0d6",
   "metadata": {},
   "outputs": [],
   "source": [
    "x_train2.shape"
   ]
  },
  {
   "cell_type": "code",
   "execution_count": null,
   "id": "a321e582",
   "metadata": {},
   "outputs": [],
   "source": [
    "x_train3,x_test3=reshaper(x_train3,x_test3)"
   ]
  },
  {
   "cell_type": "code",
   "execution_count": null,
   "id": "0153ef0b",
   "metadata": {},
   "outputs": [],
   "source": [
    "x_train3.shape"
   ]
  },
  {
   "cell_type": "code",
   "execution_count": null,
   "id": "1d4684ef",
   "metadata": {},
   "outputs": [],
   "source": [
    "x_train4,x_test4=reshaper(x_train4,x_test4)"
   ]
  },
  {
   "cell_type": "code",
   "execution_count": null,
   "id": "3cb4325c",
   "metadata": {},
   "outputs": [],
   "source": [
    "x_train4.shape"
   ]
  },
  {
   "cell_type": "markdown",
   "id": "1b80b58f",
   "metadata": {},
   "source": [
    "<h1 style=\"color:white;background:black;text-align:center\">IMPORTING LIBRARIES</h1>"
   ]
  },
  {
   "cell_type": "code",
   "execution_count": null,
   "id": "b37d5544",
   "metadata": {},
   "outputs": [],
   "source": [
    "from tensorflow.keras.models import Sequential\n",
    "from tensorflow.keras.layers import LSTM,Dense\n",
    "from tensorflow import keras"
   ]
  },
  {
   "cell_type": "markdown",
   "id": "c7b9e5f0",
   "metadata": {},
   "source": [
    "<h1 style=\"color:white;background:black;text-align:center\">BUILDING MODELS</h1>"
   ]
  },
  {
   "cell_type": "code",
   "execution_count": null,
   "id": "19abe3f4",
   "metadata": {},
   "outputs": [],
   "source": [
    "# model=Sequential()\n",
    "# model.add(LSTM(50,return_sequences=True,input_shape=(100,1)))\n",
    "# model.add(LSTM(50,return_sequences=True))\n",
    "# model.add(LSTM(50))\n",
    "# model.add(Dense(25))\n",
    "# model.add(Dense(1))\n",
    "\n",
    "\n",
    "\n",
    "model=Sequential([\n",
    "    keras.layers.LSTM(50,input_shape=(100,1),return_sequences=True),\n",
    "    keras.layers.LSTM(50,return_sequences=True),\n",
    "    keras.layers.LSTM(50),\n",
    "    keras.layers.Dense(25),\n",
    "    keras.layers.Dense(1)\n",
    "])\n",
    "model.compile(optimizer='adam', loss='mean_squared_error')"
   ]
  },
  {
   "cell_type": "code",
   "execution_count": null,
   "id": "72d741ec",
   "metadata": {},
   "outputs": [],
   "source": [
    "model2=keras.Sequential([\n",
    "    keras.layers.LSTM(50,input_shape=(100,1),return_sequences=True),\n",
    "    keras.layers.LSTM(50,return_sequences=True),\n",
    "    keras.layers.LSTM(50),\n",
    "    keras.layers.Dense(25),\n",
    "    keras.layers.Dense(1)\n",
    "])\n",
    "model2.compile(optimizer='adam',loss='mean_squared_error')"
   ]
  },
  {
   "cell_type": "code",
   "execution_count": null,
   "id": "79b5dc3b",
   "metadata": {},
   "outputs": [],
   "source": [
    "# model3=Sequential()  \n",
    "# model3.add(LSTM(50,return_sequences=True,input_shape=(100,1)))\n",
    "# model3.add(LSTM(50,return_sequences=True))\n",
    "# model3.add(LSTM(50))\n",
    "# model3.add(Dense(25))\n",
    "# model3.add(Dense(10))\n",
    "# model3.add(Dense(1))\n",
    "# model3.compile(optimizer='adam',loss='mean_squared_error')\n",
    "\n",
    "model3=Sequential([\n",
    "    keras.layers.LSTM(50,input_shape=(100,1),return_sequences=True),\n",
    "    keras.layers.LSTM(50,return_sequences=True),\n",
    "    keras.layers.LSTM(50),\n",
    "    keras.layers.Dense(35),\n",
    "    keras.layers.Dense(25),\n",
    "    keras.layers.Dense(1)\n",
    "])\n",
    "model3.compile(optimizer='adam', loss='mean_squared_error')"
   ]
  },
  {
   "cell_type": "code",
   "execution_count": null,
   "id": "731c17fa",
   "metadata": {},
   "outputs": [],
   "source": [
    "# model4=Sequential()  \n",
    "# model4.add(LSTM(50,return_sequences=True,input_shape=(100,1)))\n",
    "# model4.add(LSTM(50,return_sequences=True))\n",
    "# model4.add(LSTM(50))\n",
    "# model4.add(Dense(25))\n",
    "# model4.add(Dense(10))\n",
    "# model4.add(Dense(1))    \n",
    "# model4.compile(optimizer='adam',loss='mean_squared_error')\n",
    "\n",
    "model4=Sequential([\n",
    "    keras.layers.LSTM(50,input_shape=(100,1),return_sequences=True),\n",
    "    keras.layers.LSTM(50,return_sequences=True),\n",
    "    keras.layers.LSTM(50),\n",
    "    keras.layers.Dense(25),\n",
    "    keras.layers.Dense(1)\n",
    "])\n",
    "model4.compile(optimizer='adam', loss='mean_squared_error')"
   ]
  },
  {
   "cell_type": "code",
   "execution_count": null,
   "id": "fb93073e",
   "metadata": {},
   "outputs": [],
   "source": [
    "model.fit(x_train,y_train,epochs=250,batch_size=64)"
   ]
  },
  {
   "cell_type": "code",
   "execution_count": null,
   "id": "4323bcef",
   "metadata": {},
   "outputs": [],
   "source": [
    " model2.fit(x_train2,y_train2,epochs=110,batch_size=128)"
   ]
  },
  {
   "cell_type": "code",
   "execution_count": null,
   "id": "8a1b68ab",
   "metadata": {
    "scrolled": true
   },
   "outputs": [],
   "source": [
    "model3.fit(x_train3,y_train3,epochs=250,batch_size=128,verbose=1)"
   ]
  },
  {
   "cell_type": "code",
   "execution_count": null,
   "id": "5af09fc9",
   "metadata": {},
   "outputs": [],
   "source": [
    "model4.fit(x_train4,y_train4,epochs=200,batch_size=128,verbose=1) "
   ]
  },
  {
   "cell_type": "markdown",
   "id": "cef4d272",
   "metadata": {},
   "source": [
    "<h1 style=\"color:white;background:black;text-align:center\">PREDICTIONS AND INVERSE TRANSFORM</h1>"
   ]
  },
  {
   "cell_type": "code",
   "execution_count": null,
   "id": "44baade4",
   "metadata": {},
   "outputs": [],
   "source": [
    "train_predict=model.predict(x_train)\n",
    "test_predict=model.predict(x_test)"
   ]
  },
  {
   "cell_type": "code",
   "execution_count": null,
   "id": "d4fcc93c",
   "metadata": {},
   "outputs": [],
   "source": [
    "train_predict=scaler.inverse_transform(train_predict)\n",
    "test_predict=scaler.inverse_transform(test_predict)"
   ]
  },
  {
   "cell_type": "code",
   "execution_count": null,
   "id": "36a7ad6a",
   "metadata": {},
   "outputs": [],
   "source": [
    "train_predict2=model2.predict(x_train2)\n",
    "test_predict2=model2.predict(x_test2)"
   ]
  },
  {
   "cell_type": "code",
   "execution_count": null,
   "id": "00457bf8",
   "metadata": {},
   "outputs": [],
   "source": [
    "train_predict3=model3.predict(x_train3)\n",
    "test_predict3=model3.predict(x_test3)"
   ]
  },
  {
   "cell_type": "code",
   "execution_count": null,
   "id": "22752a54",
   "metadata": {},
   "outputs": [],
   "source": [
    "train_predict4=model4.predict(x_train4)\n",
    "test_predict4=model4.predict(x_test4)"
   ]
  },
  {
   "cell_type": "code",
   "execution_count": null,
   "id": "80b84544",
   "metadata": {},
   "outputs": [],
   "source": [
    "train_predict2=scaler.inverse_transform(train_predict2)\n",
    "test_predict2=scaler.inverse_transform(test_predict2)"
   ]
  },
  {
   "cell_type": "code",
   "execution_count": null,
   "id": "da2e3c02",
   "metadata": {},
   "outputs": [],
   "source": [
    "train_predict3=scaler.inverse_transform(train_predict3)\n",
    "test_predict3=scaler.inverse_transform(test_predict3)"
   ]
  },
  {
   "cell_type": "code",
   "execution_count": null,
   "id": "953bb211",
   "metadata": {},
   "outputs": [],
   "source": [
    "train_predict4=scaler.inverse_transform(train_predict4)\n",
    "test_predict4=scaler.inverse_transform(test_predict4)"
   ]
  },
  {
   "cell_type": "code",
   "execution_count": null,
   "id": "bd930ea3",
   "metadata": {},
   "outputs": [],
   "source": [
    "import math\n",
    "from sklearn.metrics import mean_squared_error"
   ]
  },
  {
   "cell_type": "code",
   "execution_count": null,
   "id": "7aa6ad31",
   "metadata": {},
   "outputs": [],
   "source": [
    "def errorCalc(y_train,train_predict,y_test,test_predict):\n",
    "    err1=math.sqrt(mean_squared_error(y_train,train_predict))\n",
    "    err2=math.sqrt(mean_squared_error(y_test,test_predict))\n",
    "    return err1,err1"
   ]
  },
  {
   "cell_type": "code",
   "execution_count": null,
   "id": "11c4bcbe",
   "metadata": {},
   "outputs": [],
   "source": [
    "print(errorCalc(y_train,train_predict,y_test,test_predict))"
   ]
  },
  {
   "cell_type": "code",
   "execution_count": null,
   "id": "62d00ba1",
   "metadata": {},
   "outputs": [],
   "source": [
    "print(errorCalc(y_train2,train_predict2,y_test2,test_predict2))"
   ]
  },
  {
   "cell_type": "code",
   "execution_count": null,
   "id": "efc070ba",
   "metadata": {},
   "outputs": [],
   "source": [
    "print(errorCalc(y_train3,train_predict3,y_test3,test_predict3))"
   ]
  },
  {
   "cell_type": "code",
   "execution_count": null,
   "id": "1dd592f6",
   "metadata": {},
   "outputs": [],
   "source": [
    "print(errorCalc(y_train4,train_predict4,y_test4,test_predict4))"
   ]
  },
  {
   "cell_type": "markdown",
   "id": "496acf14",
   "metadata": {},
   "source": [
    "<h1 style=\"color:white;background:black;text-align:center\">PLOTTING REAL AND PREDICTED VALUES TOGETHER</h1>"
   ]
  },
  {
   "cell_type": "code",
   "execution_count": null,
   "id": "b2262941",
   "metadata": {},
   "outputs": [],
   "source": [
    "look_back=100\n",
    "trainPredictPlot=np.empty_like(df)\n",
    "trainPredictPlot[:,:]=np.nan\n",
    "trainPredictPlot[look_back:len(train_predict)+look_back,:]=train_predict\n",
    "\n",
    "testPredictPlot=np.empty_like(df)\n",
    "testPredictPlot[:,:]=np.nan\n",
    "testPredictPlot[len(train_predict)+(look_back*2)+2:len(df)-1,:]=test_predict\n"
   ]
  },
  {
   "cell_type": "code",
   "execution_count": null,
   "id": "f8afc2e5",
   "metadata": {},
   "outputs": [],
   "source": [
    "testPredictPlot"
   ]
  },
  {
   "cell_type": "code",
   "execution_count": null,
   "id": "ef4b6e4d",
   "metadata": {},
   "outputs": [],
   "source": [
    "look_back=100\n",
    "trainPredictPlot2=np.empty_like(df_bitcoin)\n",
    "trainPredictPlot2[:,:]=np.nan\n",
    "trainPredictPlot2[look_back:len(train_predict2)+look_back,:]=train_predict2\n",
    "testPredictPlot2=np.empty_like(df_bitcoin)\n",
    "testPredictPlot2[:,:]=np.nan\n",
    "testPredictPlot2[len(train_predict2)+(look_back*2)+2:len(df_bitcoin)-1,:]=test_predict2\n"
   ]
  },
  {
   "cell_type": "code",
   "execution_count": null,
   "id": "dd4358fb",
   "metadata": {},
   "outputs": [],
   "source": [
    "look_back=100\n",
    "trainPredictPlot3=np.empty_like(df_eth)\n",
    "trainPredictPlot3[:,:]=np.nan\n",
    "trainPredictPlot3[look_back:len(train_predict3)+look_back,:]=train_predict3\n",
    "testPredictPlot3=np.empty_like(df_eth)\n",
    "testPredictPlot3[:,:]=np.nan\n",
    "testPredictPlot3[len(train_predict3)+(look_back*2)+2:len(df_eth)-1,:]=test_predict3\n"
   ]
  },
  {
   "cell_type": "code",
   "execution_count": null,
   "id": "d2df0b4f",
   "metadata": {},
   "outputs": [],
   "source": [
    "look_back=100\n",
    "trainPredictPlot4=np.empty_like(df_bnb)\n",
    "trainPredictPlot4[:,:]=np.nan\n",
    "trainPredictPlot4[look_back:len(train_predict4)+look_back,:]=train_predict4\n",
    "testPredictPlot4=np.empty_like(df_bnb)\n",
    "testPredictPlot4[:,:]=np.nan\n",
    "testPredictPlot4[len(train_predict4)+(look_back*2)+2:len(df_eth)-1,:]=test_predict4\n"
   ]
  },
  {
   "cell_type": "code",
   "execution_count": null,
   "id": "bc670afc",
   "metadata": {},
   "outputs": [],
   "source": [
    "import matplotlib.pyplot as plt\n",
    "%matplotlib inline"
   ]
  },
  {
   "cell_type": "code",
   "execution_count": null,
   "id": "669fd2c1",
   "metadata": {},
   "outputs": [],
   "source": [
    "plt.figure(figsize=(15,5))\n",
    "plt.plot(scaler.inverse_transform(df))\n",
    "plt.plot(trainPredictPlot)\n",
    "plt.plot(testPredictPlot)"
   ]
  },
  {
   "cell_type": "code",
   "execution_count": null,
   "id": "b82442f9",
   "metadata": {},
   "outputs": [],
   "source": [
    "dfp1=pd.read_csv('BTC-INR.csv')"
   ]
  },
  {
   "cell_type": "code",
   "execution_count": null,
   "id": "3a84d334",
   "metadata": {},
   "outputs": [],
   "source": [
    "plt.figure(figsize=(15,5))\n",
    "plt.plot(scaler.inverse_transform(df_bitcoin))\n",
    "plt.plot(trainPredictPlot2)\n",
    "plt.plot(testPredictPlot2)"
   ]
  },
  {
   "cell_type": "code",
   "execution_count": null,
   "id": "a09de136",
   "metadata": {},
   "outputs": [],
   "source": [
    "dfp1=pd.read_csv('BTC-INR.csv')"
   ]
  },
  {
   "cell_type": "code",
   "execution_count": null,
   "id": "d306a472",
   "metadata": {},
   "outputs": [],
   "source": [
    "plt.figure(figsize=(15,5))\n",
    "plt.plot(scaler.inverse_transform(df_eth))\n",
    "plt.plot(trainPredictPlot3)\n",
    "plt.plot(testPredictPlot3)"
   ]
  },
  {
   "cell_type": "code",
   "execution_count": null,
   "id": "b30ae2cf",
   "metadata": {},
   "outputs": [],
   "source": [
    "plt.figure(figsize=(15,5))\n",
    "plt.plot(scaler.inverse_transform(df_bnb))\n",
    "plt.plot(trainPredictPlot4)\n",
    "plt.plot(testPredictPlot4)"
   ]
  }
 ],
 "metadata": {
  "kernelspec": {
   "display_name": "Python 3 (ipykernel)",
   "language": "python",
   "name": "python3"
  },
  "language_info": {
   "codemirror_mode": {
    "name": "ipython",
    "version": 3
   },
   "file_extension": ".py",
   "mimetype": "text/x-python",
   "name": "python",
   "nbconvert_exporter": "python",
   "pygments_lexer": "ipython3",
   "version": "3.10.6"
  }
 },
 "nbformat": 4,
 "nbformat_minor": 5
}
